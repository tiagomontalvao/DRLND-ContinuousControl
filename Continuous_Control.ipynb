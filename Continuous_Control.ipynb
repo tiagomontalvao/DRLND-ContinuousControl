{
 "cells": [
  {
   "cell_type": "markdown",
   "metadata": {},
   "source": [
    "# Continuous Control with DDPG\n",
    "\n",
    "---\n",
    "\n",
    "This notebook builds and trains a Deep Deterministic Policy Gradient (DDPG) agent locally to solve the Robotic Arm Continuous Control problem, using the Unity ML-Agents environment for the second project of the [Deep Reinforcement Learning Nanodegree](https://www.udacity.com/course/deep-reinforcement-learning-nanodegree--nd893)."
   ]
  },
  {
   "cell_type": "markdown",
   "metadata": {},
   "source": [
    "### 1. Start the Environment\n",
    "\n",
    "First, we must build the required environment. The instructions to do so are shown here: https://github.com/udacity/deep-reinforcement-learning#dependencies\n",
    "\n",
    "I had to also update PyTorch version, as I had some issues locally when calling `.to(device)` on PyTorch tensors. Also, as I am training in a computer with an NVIDIA GPU (RTX 2070), I installed CUDA Toolkit. I also installed [PyTorch Summary](https://github.com/sksq96/pytorch-summary) to visualize the model:\n",
    "```\n",
    "> conda install pytorch cudatoolkit=10.2 -c pytorch\n",
    "> pip install torchsummary\n",
    "```"
   ]
  },
  {
   "cell_type": "markdown",
   "metadata": {},
   "source": [
    "After setting up the environment, we begin by importing some necessary packages:"
   ]
  },
  {
   "cell_type": "code",
   "execution_count": 1,
   "metadata": {},
   "outputs": [],
   "source": [
    "from collections import deque\n",
    "from torchsummary import summary\n",
    "from unityagents import UnityEnvironment\n",
    "import matplotlib.pyplot as plt\n",
    "import numpy as np\n",
    "import pandas as pd\n",
    "import torch\n",
    "\n",
    "# DDPG agent to be trained\n",
    "from ddpg_agent import Agent"
   ]
  },
  {
   "cell_type": "markdown",
   "metadata": {},
   "source": [
    "Next, we will start the environment!  **_Before running the code cell below_**, change the `file_name` parameter to match the location of the Unity environment that you downloaded.\n",
    "\n",
    "- **Mac**: `\"path/to/Reacher.app\"`\n",
    "- **Windows** (x86): `\"path/to/Reacher_Windows_x86/Reacher.exe\"`\n",
    "- **Windows** (x86_64): `\"path/to/Reacher_Windows_x86_64/Reacher.exe\"`\n",
    "- **Linux** (x86): `\"path/to/Reacher_Linux/Reacher.x86\"`\n",
    "- **Linux** (x86_64): `\"path/to/Reacher_Linux/Reacher.x86_64\"`\n",
    "- **Linux** (x86, headless): `\"path/to/Reacher_Linux_NoVis/Reacher.x86\"`\n",
    "- **Linux** (x86_64, headless): `\"path/to/Reacher_Linux_NoVis/Reacher.x86_64\"`\n",
    "\n",
    "For instance, if you are using a Mac, then you downloaded `Reacher.app`.  If this file is in the same folder as the notebook, then the line below should appear as follows:\n",
    "```\n",
    "env = UnityEnvironment(file_name=\"Reacher.app\")\n",
    "```"
   ]
  },
  {
   "cell_type": "code",
   "execution_count": 2,
   "metadata": {},
   "outputs": [
    {
     "name": "stderr",
     "output_type": "stream",
     "text": [
      "INFO:unityagents:\n",
      "'Academy' started successfully!\n",
      "Unity Academy name: Academy\n",
      "        Number of Brains: 1\n",
      "        Number of External Brains : 1\n",
      "        Lesson number : 0\n",
      "        Reset Parameters :\n",
      "\t\tgoal_speed -> 1.0\n",
      "\t\tgoal_size -> 5.0\n",
      "Unity brain name: ReacherBrain\n",
      "        Number of Visual Observations (per agent): 0\n",
      "        Vector Observation space type: continuous\n",
      "        Vector Observation space size (per agent): 33\n",
      "        Number of stacked Vector Observation: 1\n",
      "        Vector Action space type: continuous\n",
      "        Vector Action space size (per agent): 4\n",
      "        Vector Action descriptions: , , , \n"
     ]
    }
   ],
   "source": [
    "env = UnityEnvironment(file_name='Reacher_Linux_20/Reacher.x86_64')"
   ]
  },
  {
   "cell_type": "markdown",
   "metadata": {},
   "source": [
    "Environments contain **_brains_** which are responsible for deciding the actions of their associated agents. Here we check for the first brain available, and set it as the default brain we will be controlling from Python."
   ]
  },
  {
   "cell_type": "code",
   "execution_count": 3,
   "metadata": {},
   "outputs": [
    {
     "name": "stdout",
     "output_type": "stream",
     "text": [
      "['ReacherBrain']\n"
     ]
    }
   ],
   "source": [
    "# get the default brain\n",
    "print(env.brain_names)\n",
    "brain_name = env.brain_names[0]\n",
    "brain = env.brains[brain_name]"
   ]
  },
  {
   "cell_type": "markdown",
   "metadata": {},
   "source": [
    "### 2. Examine the State and Action Spaces\n",
    "\n",
    "In this environment, a double-jointed arm can move to target locations. A reward of `+0.1` is provided for each step that the agent's hand is in the goal location. Thus, the goal of your agent is to maintain its position at the target location for as many time steps as possible.\n",
    "\n",
    "The observation space consists of `33` variables corresponding to position, rotation, velocity, and angular velocities of the arm.  Each action is a vector with four numbers, corresponding to torque applicable to two joints.  Every entry in the action vector must be a number between `-1` and `1`.\n",
    "\n",
    "Run the code cell below to print some information about the environment."
   ]
  },
  {
   "cell_type": "code",
   "execution_count": 4,
   "metadata": {},
   "outputs": [
    {
     "name": "stdout",
     "output_type": "stream",
     "text": [
      "Number of agents: 20\n",
      "Size of each action: 4\n",
      "There are 20 agents. Each observes a state with length: 33\n",
      "The state for the first agent looks like: [ 0.00000000e+00 -4.00000000e+00  0.00000000e+00  1.00000000e+00\n",
      " -0.00000000e+00 -0.00000000e+00 -4.37113883e-08  0.00000000e+00\n",
      "  0.00000000e+00  0.00000000e+00  0.00000000e+00  0.00000000e+00\n",
      "  0.00000000e+00  0.00000000e+00 -1.00000000e+01  0.00000000e+00\n",
      "  1.00000000e+00 -0.00000000e+00 -0.00000000e+00 -4.37113883e-08\n",
      "  0.00000000e+00  0.00000000e+00  0.00000000e+00  0.00000000e+00\n",
      "  0.00000000e+00  0.00000000e+00  5.75471878e+00 -1.00000000e+00\n",
      "  5.55726624e+00  0.00000000e+00  1.00000000e+00  0.00000000e+00\n",
      " -1.68164849e-01]\n"
     ]
    }
   ],
   "source": [
    "# reset the environment\n",
    "env_info = env.reset(train_mode=True)[brain_name]\n",
    "\n",
    "# number of agents\n",
    "num_agents = len(env_info.agents)\n",
    "print('Number of agents:', num_agents)\n",
    "\n",
    "# size of each action\n",
    "action_size = brain.vector_action_space_size\n",
    "print('Size of each action:', action_size)\n",
    "\n",
    "# examine the state space \n",
    "states = env_info.vector_observations\n",
    "state_size = states.shape[1]\n",
    "print('There are {} agents. Each observes a state with length: {}'.format(states.shape[0], state_size))\n",
    "print('The state for the first agent looks like:', states[0])"
   ]
  },
  {
   "cell_type": "markdown",
   "metadata": {},
   "source": [
    "### 3. Take Random Actions in the Environment\n",
    "\n",
    "The next cell shows how to use the Python API to control the agent and receive feedback from the environment.\n",
    "\n",
    "Once this cell is executed, you will watch the agent's performance, if it selects an action (uniformly) at random with each time step.  A window should pop up that allows you to observe the agent, as it moves through the environment.  "
   ]
  },
  {
   "cell_type": "code",
   "execution_count": 5,
   "metadata": {},
   "outputs": [
    {
     "name": "stdout",
     "output_type": "stream",
     "text": [
      "Total score (averaged over agents) this episode: 0.06299999859184027\n"
     ]
    }
   ],
   "source": [
    "env_info = env.reset(train_mode=False)[brain_name]     # reset the environment    \n",
    "states = env_info.vector_observations                  # get the current state (for each agent)\n",
    "scores = np.zeros(num_agents)                          # initialize the score (for each agent)\n",
    "while True:\n",
    "    actions = np.random.randn(num_agents, action_size) # select an action (for each agent)\n",
    "    actions = np.clip(actions, -1, 1)                  # all actions between -1 and 1\n",
    "    env_info = env.step(actions)[brain_name]           # send all actions to the environment\n",
    "    next_states = env_info.vector_observations         # get next state (for each agent)\n",
    "    rewards = env_info.rewards                         # get reward (for each agent)\n",
    "    dones = env_info.local_done                        # see if episode finished\n",
    "    scores += env_info.rewards                         # update the score (for each agent)\n",
    "    states = next_states                               # roll over states to next time step\n",
    "    if np.any(dones):                                  # exit loop if episode finished\n",
    "        break\n",
    "print('Total score (averaged over agents) this episode: {}'.format(np.mean(scores)))"
   ]
  },
  {
   "cell_type": "markdown",
   "metadata": {},
   "source": [
    "### 4. Training the DDPG Agent\n",
    "\n",
    "When training the environment, set `train_mode=True`, so that the line for resetting the environment looks like the following:\n",
    "```python\n",
    "env_info = env.reset(train_mode=True)[brain_name]\n",
    "```"
   ]
  },
  {
   "cell_type": "code",
   "execution_count": 6,
   "metadata": {
    "scrolled": true
   },
   "outputs": [],
   "source": [
    "def run_episode(agent, train_mode=False, if_train_then_step=True):\n",
    "    \"\"\"Runs a single episode of the environment.\n",
    "\n",
    "    Params\n",
    "    ======\n",
    "        agent (Agent): agent object to be trained\n",
    "        train_mode (bool): train_mode to be passed to the environment\n",
    "        if_train_then_step (bool): indicates if agent should be trained when train_mode=True\n",
    "    \"\"\"  \n",
    "    env_info = env.reset(train_mode=train_mode)[brain_name]# reset the environment    \n",
    "    states = env_info.vector_observations                  # get the current state (for each agent)\n",
    "    scores = np.zeros(num_agents)                          # initialize the score (for each agent)\n",
    "    while True:\n",
    "        actions = agent.act(states)                        # select an action (for each agent)\n",
    "        actions = np.clip(actions, -1, 1)                  # all actions between -1 and 1\n",
    "        env_info = env.step(actions)[brain_name]           # send all actions to the environment\n",
    "        next_states = env_info.vector_observations         # get next state (for each agent)\n",
    "        rewards = env_info.rewards                         # get reward (for each agent)\n",
    "        dones = env_info.local_done                        # see if episode finished\n",
    "        scores += env_info.rewards                         # update the score (for each agent)\n",
    "        if train_mode and if_train_then_step:\n",
    "            agent.step(states, actions, rewards, next_states, dones)\n",
    "        states = next_states                               # roll over states to next time step\n",
    "        if np.any(dones):                                  # exit loop if episode finished\n",
    "            break\n",
    "    avg_score = np.mean(scores)\n",
    "    return avg_score"
   ]
  },
  {
   "cell_type": "code",
   "execution_count": 7,
   "metadata": {},
   "outputs": [],
   "source": [
    "def ddpg(agent, n_episodes=500, checkpoint_each=500, print_each=100,\n",
    "         solve_window_size=100, solve_score=30):\n",
    "    \"\"\"Trains a DDPG agent.\n",
    "\n",
    "    Params\n",
    "    ======\n",
    "        agent (Agent): agent object to be trained\n",
    "        n_episodes (int): number of episodes\n",
    "        checkpoint_each (int): number of episodes to skip before checkpointing model \n",
    "        print_each (int): number of episodes to skip before printing current score\n",
    "        solve_window_size (int): number of consecutive episodes to consider the environment solved\n",
    "        solve_score (int): minimum average score to reach after solve_window_size\n",
    "    \"\"\"\n",
    "    scores = []\n",
    "    scores_window = deque(maxlen=solve_window_size)\n",
    "    for i in range(1, n_episodes+1):\n",
    "        state = env.reset()\n",
    "        agent.reset()\n",
    "        \n",
    "        score = run_episode(agent, train_mode=True)\n",
    "        scores.append(score)\n",
    "        scores_window.append(score)\n",
    "        \n",
    "        avg_score = np.mean(scores_window)\n",
    "        end = '\\n' if (i%print_each == 0 or avg_score >= solve_score) else ''\n",
    "        print(\"\\rEpisode #{:3d}  |  \"\n",
    "              \"Score: {:+6.2f}  |  \"\n",
    "              \"Avg. Score: {:+6.2f}\".format(i, score, avg_score),\n",
    "              end=end\n",
    "        )\n",
    "        if i%checkpoint_each == 0:\n",
    "            torch.save(agent.actor_local.state_dict(), 'checkpoint_actor.pt')\n",
    "            torch.save(agent.critic_local.state_dict(), 'checkpoint_critic.pt')\n",
    "            print('Checkpoint saved!')\n",
    "        if avg_score >= solve_score and i >= solve_window_size:\n",
    "            print('Environment solved in {} episodes!'.format(i))\n",
    "            break\n",
    "\n",
    "    # save model after all episodes\n",
    "    torch.save(agent.actor_local.state_dict(), 'model_actor.pt')\n",
    "    torch.save(agent.critic_local.state_dict(), 'model_critic.pt')\n",
    "    print('Model saved!')\n",
    "    \n",
    "    if np.mean(scores_window) < solve_score:\n",
    "        print('Agent could not solve the environment in {} episodes'.format(n_episodes))\n",
    "    \n",
    "    return scores"
   ]
  },
  {
   "cell_type": "code",
   "execution_count": 8,
   "metadata": {},
   "outputs": [
    {
     "name": "stdout",
     "output_type": "stream",
     "text": [
      "Agent actor network architecture:\n",
      "----------------------------------------------------------------\n",
      "        Layer (type)               Output Shape         Param #\n",
      "================================================================\n",
      "            Linear-1                  [-1, 400]          13,600\n",
      "            Linear-2                  [-1, 300]         120,300\n",
      "            Linear-3                    [-1, 4]           1,204\n",
      "================================================================\n",
      "Total params: 135,104\n",
      "Trainable params: 135,104\n",
      "Non-trainable params: 0\n",
      "----------------------------------------------------------------\n",
      "Input size (MB): 0.00\n",
      "Forward/backward pass size (MB): 0.01\n",
      "Params size (MB): 0.52\n",
      "Estimated Total Size (MB): 0.52\n",
      "----------------------------------------------------------------\n"
     ]
    }
   ],
   "source": [
    "agent = Agent(n_agents=num_agents, state_size=state_size, action_size=action_size, random_seed=0)\n",
    "print('Agent actor network architecture:')\n",
    "summary(agent.actor_local, (state_size, ))"
   ]
  },
  {
   "cell_type": "code",
   "execution_count": 9,
   "metadata": {
    "scrolled": true
   },
   "outputs": [
    {
     "name": "stdout",
     "output_type": "stream",
     "text": [
      "Agent critic network architecture:\n",
      "----------------------------------------------------------------\n",
      "        Layer (type)               Output Shape         Param #\n",
      "================================================================\n",
      "            Linear-1                  [-1, 400]          13,600\n",
      "            Linear-2                  [-1, 300]         121,500\n",
      "            Linear-3                    [-1, 1]             301\n",
      "================================================================\n",
      "Total params: 135,401\n",
      "Trainable params: 135,401\n",
      "Non-trainable params: 0\n",
      "----------------------------------------------------------------\n",
      "Input size (MB): 0.00\n",
      "Forward/backward pass size (MB): 0.01\n",
      "Params size (MB): 0.52\n",
      "Estimated Total Size (MB): 0.52\n",
      "----------------------------------------------------------------\n"
     ]
    }
   ],
   "source": [
    "print('Agent critic network architecture:')\n",
    "summary(agent.critic_local, [(state_size,), (action_size,)])"
   ]
  },
  {
   "cell_type": "code",
   "execution_count": 10,
   "metadata": {},
   "outputs": [],
   "source": [
    "all_scores = []\n",
    "n_episodes = 500\n",
    "print_each = 10\n",
    "solve_score = 30\n",
    "solve_window_size = 100"
   ]
  },
  {
   "cell_type": "code",
   "execution_count": 11,
   "metadata": {},
   "outputs": [
    {
     "name": "stdout",
     "output_type": "stream",
     "text": [
      "Episode # 10  |  Score:  +1.92  |  Avg. Score:  +0.98\n",
      "Episode # 20  |  Score: +18.21  |  Avg. Score:  +5.49\n",
      "Episode # 30  |  Score: +29.02  |  Avg. Score: +11.54\n",
      "Episode # 40  |  Score: +37.60  |  Avg. Score: +17.65\n",
      "Episode # 50  |  Score: +37.72  |  Avg. Score: +21.69\n",
      "Episode # 60  |  Score: +37.68  |  Avg. Score: +24.37\n",
      "Episode # 70  |  Score: +36.85  |  Avg. Score: +26.24\n",
      "Episode # 80  |  Score: +37.58  |  Avg. Score: +27.62\n",
      "Episode # 90  |  Score: +37.21  |  Avg. Score: +28.67\n",
      "Episode #100  |  Score: +37.46  |  Avg. Score: +29.54\n",
      "Episode #102  |  Score: +37.64  |  Avg. Score: +30.28\n",
      "Environment solved in 102 episodes!\n",
      "Model saved!\n",
      "CPU times: user 1h 11min 22s, sys: 59.4 s, total: 1h 12min 22s\n",
      "Wall time: 1h 11min 59s\n"
     ]
    }
   ],
   "source": [
    "%%time\n",
    "scores = ddpg(agent, n_episodes=n_episodes, print_each=print_each,\n",
    "              solve_window_size=solve_window_size, solve_score=solve_score)\n",
    "all_scores += scores"
   ]
  },
  {
   "cell_type": "code",
   "execution_count": 12,
   "metadata": {},
   "outputs": [
    {
     "data": {
      "image/png": "[encoded data removed]",
      "text/plain": [
       "<Figure size 1080x360 with 1 Axes>"
      ]
     },
     "metadata": {
      "needs_background": "light"
     },
     "output_type": "display_data"
    }
   ],
   "source": [
    "fig, ax = plt.subplots(figsize=(15, 5))\n",
    "ax.plot(all_scores, label='Score')\n",
    "pd.Series(all_scores).rolling(100, 1).mean().plot(ax=ax, label='MA(100)')\n",
    "ax.axhline(solve_score, ls='--', lw=1, c='red')\n",
    "ax.set_xlabel('Episode #')\n",
    "ax.set_yticks(list(set(list(plt.yticks()[0]) + [solve_score])))\n",
    "ax.legend(loc='upper left');"
   ]
  },
  {
   "cell_type": "markdown",
   "metadata": {},
   "source": [
    "### 5. Loading and executing DQN Agent\n",
    "\n",
    "As the model weights are saved, we can load them into a new agent."
   ]
  },
  {
   "cell_type": "code",
   "execution_count": 13,
   "metadata": {},
   "outputs": [
    {
     "data": {
      "text/plain": [
       "<All keys matched successfully>"
      ]
     },
     "execution_count": 13,
     "metadata": {},
     "output_type": "execute_result"
    }
   ],
   "source": [
    "trained_agent = Agent(n_agents=num_agents, state_size=state_size, action_size=action_size, random_seed=0)\n",
    "trained_agent.actor_local.load_state_dict(torch.load('model_actor.pt'))\n",
    "trained_agent.critic_local.load_state_dict(torch.load('model_critic.pt'))"
   ]
  },
  {
   "cell_type": "code",
   "execution_count": 16,
   "metadata": {},
   "outputs": [
    {
     "data": {
      "text/plain": [
       "36.7419991787523"
      ]
     },
     "execution_count": 16,
     "metadata": {},
     "output_type": "execute_result"
    }
   ],
   "source": [
    "run_episode(trained_agent)"
   ]
  },
  {
   "cell_type": "markdown",
   "metadata": {},
   "source": [
    "When finished, you can close the environment."
   ]
  },
  {
   "cell_type": "code",
   "execution_count": 17,
   "metadata": {},
   "outputs": [],
   "source": [
    "env.close()"
   ]
  }
 ],
 "metadata": {
  "kernelspec": {
   "display_name": "Python 3",
   "language": "python",
   "name": "python3"
  },
  "language_info": {
   "codemirror_mode": {
    "name": "ipython",
    "version": 3
   },
   "file_extension": ".py",
   "mimetype": "text/x-python",
   "name": "python",
   "nbconvert_exporter": "python",
   "pygments_lexer": "ipython3",
   "version": "3.6.10"
  }
 },
 "nbformat": 4,
 "nbformat_minor": 2
}
